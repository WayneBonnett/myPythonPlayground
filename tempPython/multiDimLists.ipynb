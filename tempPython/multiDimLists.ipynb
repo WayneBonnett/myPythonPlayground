{
 "cells": [
  {
   "cell_type": "code",
   "execution_count": 6,
   "metadata": {},
   "outputs": [
    {
     "name": "stdout",
     "output_type": "stream",
     "text": [
      "Hello Word, I'm here for a good time.\n"
     ]
    }
   ],
   "source": [
    "print(\"Hello Word, I'm here for a good time.\")"
   ]
  },
  {
   "cell_type": "code",
   "execution_count": 8,
   "metadata": {},
   "outputs": [
    {
     "name": "stdout",
     "output_type": "stream",
     "text": [
      "3\n",
      "[[1, 2, 3], [1, 2, 3, 4], [1, 2], [1, 2, 3], [1, 2, 3, 4, 5, 6, 7, 8, 9, 10]]\n",
      "[[1, 2, 3], [1, 2, 3], [1, 2], [1, 2, 3], [1, 2, 3, 4, 5, 6, 7, 8, 9, 10]]\n"
     ]
    }
   ],
   "source": [
    "#MultidimenensionalLists\n",
    "universe = [ \n",
    "    [1,2,3],\n",
    "    [1,2,3,4],\n",
    "    [1,2],\n",
    "    [1,2,3]\n",
    "]\n",
    "\n",
    "world = universe[3][2]\n",
    "print(world)\n",
    "\n",
    "universe.append([1,2,3,4,5,6,7,8,9,10])\n",
    "print(universe)\n",
    "\n",
    "universe[1].pop()\n",
    "print(universe)\n"
   ]
  }
 ],
 "metadata": {
  "kernelspec": {
   "display_name": "Python 3",
   "language": "python",
   "name": "python3"
  },
  "language_info": {
   "codemirror_mode": {
    "name": "ipython",
    "version": 3
   },
   "file_extension": ".py",
   "mimetype": "text/x-python",
   "name": "python",
   "nbconvert_exporter": "python",
   "pygments_lexer": "ipython3",
   "version": "3.12.4"
  }
 },
 "nbformat": 4,
 "nbformat_minor": 2
}
