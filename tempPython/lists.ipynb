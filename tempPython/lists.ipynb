{
 "cells": [
  {
   "cell_type": "code",
   "execution_count": 1,
   "metadata": {},
   "outputs": [
    {
     "name": "stdout",
     "output_type": "stream",
     "text": [
      "Hello Word, I'm here for a good time.\n"
     ]
    }
   ],
   "source": [
    "print(\"Hello Word, I'm here for a good time.\")"
   ]
  },
  {
   "cell_type": "code",
   "execution_count": 2,
   "metadata": {},
   "outputs": [
    {
     "name": "stdout",
     "output_type": "stream",
     "text": [
      "['Sword', 'Boots', 'Shield']\n",
      "['Sword', 'Socks', 'Shield']\n",
      "3\n",
      "Shield\n",
      "Sword\n",
      "['Sword', 'Socks', 'Shield', 'Ring']\n",
      "['Hat', 'Sword', 'Socks', 'Shield', 'Ring']\n",
      "['Hat', 'Sword', 'Socks', 'Shield']\n",
      "['Sword', 'Socks', 'Shield']\n",
      "[]\n"
     ]
    }
   ],
   "source": [
    "#lists\n",
    "inventory = ['Sword', 'Boots', 'Shield']\n",
    "print(inventory)\n",
    "inventory[1] = 'Socks'\n",
    "print(inventory)\n",
    "\n",
    "print(len(inventory))\n",
    "print(min(inventory))\n",
    "print(max(inventory))\n",
    "\n",
    "inventory.append('Ring')\n",
    "print(inventory)\n",
    "\n",
    "inventory.insert(0,'Hat')\n",
    "print(inventory)\n",
    "inventory.pop()\n",
    "print(inventory)\n",
    "\n",
    "inventory.remove('Hat')\n",
    "print(inventory)\n",
    "\n",
    "inventory.clear()\n",
    "print(inventory)"
   ]
  }
 ],
 "metadata": {
  "kernelspec": {
   "display_name": "Python 3",
   "language": "python",
   "name": "python3"
  },
  "language_info": {
   "codemirror_mode": {
    "name": "ipython",
    "version": 3
   },
   "file_extension": ".py",
   "mimetype": "text/x-python",
   "name": "python",
   "nbconvert_exporter": "python",
   "pygments_lexer": "ipython3",
   "version": "3.11.1"
  }
 },
 "nbformat": 4,
 "nbformat_minor": 2
}
